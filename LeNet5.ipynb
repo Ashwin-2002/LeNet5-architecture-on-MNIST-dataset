{
  "cells": [
    {
      "cell_type": "code",
      "execution_count": 43,
      "metadata": {
        "id": "8hkPSC2AgRtX"
      },
      "outputs": [],
      "source": [
        "import pandas as pd\n",
        "import numpy as np\n",
        "from sklearn.model_selection import train_test_split\n",
        "from keras.utils.np_utils import to_categorical\n",
        "from keras.models import Sequential\n",
        "from keras.layers import Dense, Dropout, Flatten, Conv2D, MaxPool2D, BatchNormalization\n",
        "from keras.preprocessing.image import ImageDataGenerator\n",
        "from keras.callbacks import LearningRateScheduler\n",
        "import warnings\n",
        "warnings.filterwarnings(\"ignore\")"
      ]
    },
    {
      "cell_type": "code",
      "execution_count": 44,
      "metadata": {
        "id": "HP3pwhojgT5H"
      },
      "outputs": [],
      "source": [
        "train = pd.read_csv(\"train 2.csv\")\n",
        "test = pd.read_csv(\"test.csv\")"
      ]
    },
    {
      "cell_type": "code",
      "execution_count": 47,
      "metadata": {
        "colab": {
          "base_uri": "https://localhost:8080/",
          "height": 300
        },
        "id": "dhIbh3rGgvIE",
        "outputId": "6c16a8fc-4899-45aa-e843-36a270784894"
      },
      "outputs": [
        {
          "output_type": "execute_result",
          "data": {
            "text/plain": [
              "   label  pixel0  pixel1  pixel2  pixel3  pixel4  pixel5  pixel6  pixel7  \\\n",
              "0      1       0       0       0       0       0       0       0       0   \n",
              "1      0       0       0       0       0       0       0       0       0   \n",
              "2      1       0       0       0       0       0       0       0       0   \n",
              "3      4       0       0       0       0       0       0       0       0   \n",
              "4      0       0       0       0       0       0       0       0       0   \n",
              "\n",
              "   pixel8  ...  pixel774  pixel775  pixel776  pixel777  pixel778  pixel779  \\\n",
              "0       0  ...         0         0         0         0         0         0   \n",
              "1       0  ...         0         0         0         0         0         0   \n",
              "2       0  ...         0         0         0         0         0         0   \n",
              "3       0  ...         0         0         0         0         0         0   \n",
              "4       0  ...         0         0         0         0         0         0   \n",
              "\n",
              "   pixel780  pixel781  pixel782  pixel783  \n",
              "0         0         0         0         0  \n",
              "1         0         0         0         0  \n",
              "2         0         0         0         0  \n",
              "3         0         0         0         0  \n",
              "4         0         0         0         0  \n",
              "\n",
              "[5 rows x 785 columns]"
            ],
            "text/html": [
              "\n",
              "\n",
              "  <div id=\"df-179f9f01-cec7-4c94-a621-65a64333546d\">\n",
              "    <div class=\"colab-df-container\">\n",
              "      <div>\n",
              "<style scoped>\n",
              "    .dataframe tbody tr th:only-of-type {\n",
              "        vertical-align: middle;\n",
              "    }\n",
              "\n",
              "    .dataframe tbody tr th {\n",
              "        vertical-align: top;\n",
              "    }\n",
              "\n",
              "    .dataframe thead th {\n",
              "        text-align: right;\n",
              "    }\n",
              "</style>\n",
              "<table border=\"1\" class=\"dataframe\">\n",
              "  <thead>\n",
              "    <tr style=\"text-align: right;\">\n",
              "      <th></th>\n",
              "      <th>label</th>\n",
              "      <th>pixel0</th>\n",
              "      <th>pixel1</th>\n",
              "      <th>pixel2</th>\n",
              "      <th>pixel3</th>\n",
              "      <th>pixel4</th>\n",
              "      <th>pixel5</th>\n",
              "      <th>pixel6</th>\n",
              "      <th>pixel7</th>\n",
              "      <th>pixel8</th>\n",
              "      <th>...</th>\n",
              "      <th>pixel774</th>\n",
              "      <th>pixel775</th>\n",
              "      <th>pixel776</th>\n",
              "      <th>pixel777</th>\n",
              "      <th>pixel778</th>\n",
              "      <th>pixel779</th>\n",
              "      <th>pixel780</th>\n",
              "      <th>pixel781</th>\n",
              "      <th>pixel782</th>\n",
              "      <th>pixel783</th>\n",
              "    </tr>\n",
              "  </thead>\n",
              "  <tbody>\n",
              "    <tr>\n",
              "      <th>0</th>\n",
              "      <td>1</td>\n",
              "      <td>0</td>\n",
              "      <td>0</td>\n",
              "      <td>0</td>\n",
              "      <td>0</td>\n",
              "      <td>0</td>\n",
              "      <td>0</td>\n",
              "      <td>0</td>\n",
              "      <td>0</td>\n",
              "      <td>0</td>\n",
              "      <td>...</td>\n",
              "      <td>0</td>\n",
              "      <td>0</td>\n",
              "      <td>0</td>\n",
              "      <td>0</td>\n",
              "      <td>0</td>\n",
              "      <td>0</td>\n",
              "      <td>0</td>\n",
              "      <td>0</td>\n",
              "      <td>0</td>\n",
              "      <td>0</td>\n",
              "    </tr>\n",
              "    <tr>\n",
              "      <th>1</th>\n",
              "      <td>0</td>\n",
              "      <td>0</td>\n",
              "      <td>0</td>\n",
              "      <td>0</td>\n",
              "      <td>0</td>\n",
              "      <td>0</td>\n",
              "      <td>0</td>\n",
              "      <td>0</td>\n",
              "      <td>0</td>\n",
              "      <td>0</td>\n",
              "      <td>...</td>\n",
              "      <td>0</td>\n",
              "      <td>0</td>\n",
              "      <td>0</td>\n",
              "      <td>0</td>\n",
              "      <td>0</td>\n",
              "      <td>0</td>\n",
              "      <td>0</td>\n",
              "      <td>0</td>\n",
              "      <td>0</td>\n",
              "      <td>0</td>\n",
              "    </tr>\n",
              "    <tr>\n",
              "      <th>2</th>\n",
              "      <td>1</td>\n",
              "      <td>0</td>\n",
              "      <td>0</td>\n",
              "      <td>0</td>\n",
              "      <td>0</td>\n",
              "      <td>0</td>\n",
              "      <td>0</td>\n",
              "      <td>0</td>\n",
              "      <td>0</td>\n",
              "      <td>0</td>\n",
              "      <td>...</td>\n",
              "      <td>0</td>\n",
              "      <td>0</td>\n",
              "      <td>0</td>\n",
              "      <td>0</td>\n",
              "      <td>0</td>\n",
              "      <td>0</td>\n",
              "      <td>0</td>\n",
              "      <td>0</td>\n",
              "      <td>0</td>\n",
              "      <td>0</td>\n",
              "    </tr>\n",
              "    <tr>\n",
              "      <th>3</th>\n",
              "      <td>4</td>\n",
              "      <td>0</td>\n",
              "      <td>0</td>\n",
              "      <td>0</td>\n",
              "      <td>0</td>\n",
              "      <td>0</td>\n",
              "      <td>0</td>\n",
              "      <td>0</td>\n",
              "      <td>0</td>\n",
              "      <td>0</td>\n",
              "      <td>...</td>\n",
              "      <td>0</td>\n",
              "      <td>0</td>\n",
              "      <td>0</td>\n",
              "      <td>0</td>\n",
              "      <td>0</td>\n",
              "      <td>0</td>\n",
              "      <td>0</td>\n",
              "      <td>0</td>\n",
              "      <td>0</td>\n",
              "      <td>0</td>\n",
              "    </tr>\n",
              "    <tr>\n",
              "      <th>4</th>\n",
              "      <td>0</td>\n",
              "      <td>0</td>\n",
              "      <td>0</td>\n",
              "      <td>0</td>\n",
              "      <td>0</td>\n",
              "      <td>0</td>\n",
              "      <td>0</td>\n",
              "      <td>0</td>\n",
              "      <td>0</td>\n",
              "      <td>0</td>\n",
              "      <td>...</td>\n",
              "      <td>0</td>\n",
              "      <td>0</td>\n",
              "      <td>0</td>\n",
              "      <td>0</td>\n",
              "      <td>0</td>\n",
              "      <td>0</td>\n",
              "      <td>0</td>\n",
              "      <td>0</td>\n",
              "      <td>0</td>\n",
              "      <td>0</td>\n",
              "    </tr>\n",
              "  </tbody>\n",
              "</table>\n",
              "<p>5 rows × 785 columns</p>\n",
              "</div>\n",
              "      <button class=\"colab-df-convert\" onclick=\"convertToInteractive('df-179f9f01-cec7-4c94-a621-65a64333546d')\"\n",
              "              title=\"Convert this dataframe to an interactive table.\"\n",
              "              style=\"display:none;\">\n",
              "\n",
              "  <svg xmlns=\"http://www.w3.org/2000/svg\" height=\"24px\"viewBox=\"0 0 24 24\"\n",
              "       width=\"24px\">\n",
              "    <path d=\"M0 0h24v24H0V0z\" fill=\"none\"/>\n",
              "    <path d=\"M18.56 5.44l.94 2.06.94-2.06 2.06-.94-2.06-.94-.94-2.06-.94 2.06-2.06.94zm-11 1L8.5 8.5l.94-2.06 2.06-.94-2.06-.94L8.5 2.5l-.94 2.06-2.06.94zm10 10l.94 2.06.94-2.06 2.06-.94-2.06-.94-.94-2.06-.94 2.06-2.06.94z\"/><path d=\"M17.41 7.96l-1.37-1.37c-.4-.4-.92-.59-1.43-.59-.52 0-1.04.2-1.43.59L10.3 9.45l-7.72 7.72c-.78.78-.78 2.05 0 2.83L4 21.41c.39.39.9.59 1.41.59.51 0 1.02-.2 1.41-.59l7.78-7.78 2.81-2.81c.8-.78.8-2.07 0-2.86zM5.41 20L4 18.59l7.72-7.72 1.47 1.35L5.41 20z\"/>\n",
              "  </svg>\n",
              "      </button>\n",
              "\n",
              "\n",
              "\n",
              "    <div id=\"df-2c79fb20-2ad9-452e-b98a-e7fc6873dddd\">\n",
              "      <button class=\"colab-df-quickchart\" onclick=\"quickchart('df-2c79fb20-2ad9-452e-b98a-e7fc6873dddd')\"\n",
              "              title=\"Suggest charts.\"\n",
              "              style=\"display:none;\">\n",
              "\n",
              "<svg xmlns=\"http://www.w3.org/2000/svg\" height=\"24px\"viewBox=\"0 0 24 24\"\n",
              "     width=\"24px\">\n",
              "    <g>\n",
              "        <path d=\"M19 3H5c-1.1 0-2 .9-2 2v14c0 1.1.9 2 2 2h14c1.1 0 2-.9 2-2V5c0-1.1-.9-2-2-2zM9 17H7v-7h2v7zm4 0h-2V7h2v10zm4 0h-2v-4h2v4z\"/>\n",
              "    </g>\n",
              "</svg>\n",
              "      </button>\n",
              "    </div>\n",
              "\n",
              "<style>\n",
              "  .colab-df-quickchart {\n",
              "    background-color: #E8F0FE;\n",
              "    border: none;\n",
              "    border-radius: 50%;\n",
              "    cursor: pointer;\n",
              "    display: none;\n",
              "    fill: #1967D2;\n",
              "    height: 32px;\n",
              "    padding: 0 0 0 0;\n",
              "    width: 32px;\n",
              "  }\n",
              "\n",
              "  .colab-df-quickchart:hover {\n",
              "    background-color: #E2EBFA;\n",
              "    box-shadow: 0px 1px 2px rgba(60, 64, 67, 0.3), 0px 1px 3px 1px rgba(60, 64, 67, 0.15);\n",
              "    fill: #174EA6;\n",
              "  }\n",
              "\n",
              "  [theme=dark] .colab-df-quickchart {\n",
              "    background-color: #3B4455;\n",
              "    fill: #D2E3FC;\n",
              "  }\n",
              "\n",
              "  [theme=dark] .colab-df-quickchart:hover {\n",
              "    background-color: #434B5C;\n",
              "    box-shadow: 0px 1px 3px 1px rgba(0, 0, 0, 0.15);\n",
              "    filter: drop-shadow(0px 1px 2px rgba(0, 0, 0, 0.3));\n",
              "    fill: #FFFFFF;\n",
              "  }\n",
              "</style>\n",
              "\n",
              "    <script>\n",
              "      async function quickchart(key) {\n",
              "        const containerElement = document.querySelector('#' + key);\n",
              "        const charts = await google.colab.kernel.invokeFunction(\n",
              "            'suggestCharts', [key], {});\n",
              "      }\n",
              "    </script>\n",
              "\n",
              "      <script>\n",
              "\n",
              "function displayQuickchartButton(domScope) {\n",
              "  let quickchartButtonEl =\n",
              "    domScope.querySelector('#df-2c79fb20-2ad9-452e-b98a-e7fc6873dddd button.colab-df-quickchart');\n",
              "  quickchartButtonEl.style.display =\n",
              "    google.colab.kernel.accessAllowed ? 'block' : 'none';\n",
              "}\n",
              "\n",
              "        displayQuickchartButton(document);\n",
              "      </script>\n",
              "      <style>\n",
              "    .colab-df-container {\n",
              "      display:flex;\n",
              "      flex-wrap:wrap;\n",
              "      gap: 12px;\n",
              "    }\n",
              "\n",
              "    .colab-df-convert {\n",
              "      background-color: #E8F0FE;\n",
              "      border: none;\n",
              "      border-radius: 50%;\n",
              "      cursor: pointer;\n",
              "      display: none;\n",
              "      fill: #1967D2;\n",
              "      height: 32px;\n",
              "      padding: 0 0 0 0;\n",
              "      width: 32px;\n",
              "    }\n",
              "\n",
              "    .colab-df-convert:hover {\n",
              "      background-color: #E2EBFA;\n",
              "      box-shadow: 0px 1px 2px rgba(60, 64, 67, 0.3), 0px 1px 3px 1px rgba(60, 64, 67, 0.15);\n",
              "      fill: #174EA6;\n",
              "    }\n",
              "\n",
              "    [theme=dark] .colab-df-convert {\n",
              "      background-color: #3B4455;\n",
              "      fill: #D2E3FC;\n",
              "    }\n",
              "\n",
              "    [theme=dark] .colab-df-convert:hover {\n",
              "      background-color: #434B5C;\n",
              "      box-shadow: 0px 1px 3px 1px rgba(0, 0, 0, 0.15);\n",
              "      filter: drop-shadow(0px 1px 2px rgba(0, 0, 0, 0.3));\n",
              "      fill: #FFFFFF;\n",
              "    }\n",
              "  </style>\n",
              "\n",
              "      <script>\n",
              "        const buttonEl =\n",
              "          document.querySelector('#df-179f9f01-cec7-4c94-a621-65a64333546d button.colab-df-convert');\n",
              "        buttonEl.style.display =\n",
              "          google.colab.kernel.accessAllowed ? 'block' : 'none';\n",
              "\n",
              "        async function convertToInteractive(key) {\n",
              "          const element = document.querySelector('#df-179f9f01-cec7-4c94-a621-65a64333546d');\n",
              "          const dataTable =\n",
              "            await google.colab.kernel.invokeFunction('convertToInteractive',\n",
              "                                                     [key], {});\n",
              "          if (!dataTable) return;\n",
              "\n",
              "          const docLinkHtml = 'Like what you see? Visit the ' +\n",
              "            '<a target=\"_blank\" href=https://colab.research.google.com/notebooks/data_table.ipynb>data table notebook</a>'\n",
              "            + ' to learn more about interactive tables.';\n",
              "          element.innerHTML = '';\n",
              "          dataTable['output_type'] = 'display_data';\n",
              "          await google.colab.output.renderOutput(dataTable, element);\n",
              "          const docLink = document.createElement('div');\n",
              "          docLink.innerHTML = docLinkHtml;\n",
              "          element.appendChild(docLink);\n",
              "        }\n",
              "      </script>\n",
              "    </div>\n",
              "  </div>\n"
            ]
          },
          "metadata": {},
          "execution_count": 47
        }
      ],
      "source": [
        "train.head()"
      ]
    },
    {
      "cell_type": "code",
      "execution_count": null,
      "metadata": {
        "colab": {
          "base_uri": "https://localhost:8080/",
          "height": 300
        },
        "id": "TQNWTwH_jKxA",
        "outputId": "8b79b642-a570-463b-c8e7-542efe5d2aac"
      },
      "outputs": [
        {
          "data": {
            "text/html": [
              "\n",
              "\n",
              "  <div id=\"df-277c1a73-09f1-4d68-b10b-d4b1dd8c69c4\">\n",
              "    <div class=\"colab-df-container\">\n",
              "      <div>\n",
              "<style scoped>\n",
              "    .dataframe tbody tr th:only-of-type {\n",
              "        vertical-align: middle;\n",
              "    }\n",
              "\n",
              "    .dataframe tbody tr th {\n",
              "        vertical-align: top;\n",
              "    }\n",
              "\n",
              "    .dataframe thead th {\n",
              "        text-align: right;\n",
              "    }\n",
              "</style>\n",
              "<table border=\"1\" class=\"dataframe\">\n",
              "  <thead>\n",
              "    <tr style=\"text-align: right;\">\n",
              "      <th></th>\n",
              "      <th>pixel0</th>\n",
              "      <th>pixel1</th>\n",
              "      <th>pixel2</th>\n",
              "      <th>pixel3</th>\n",
              "      <th>pixel4</th>\n",
              "      <th>pixel5</th>\n",
              "      <th>pixel6</th>\n",
              "      <th>pixel7</th>\n",
              "      <th>pixel8</th>\n",
              "      <th>pixel9</th>\n",
              "      <th>...</th>\n",
              "      <th>pixel774</th>\n",
              "      <th>pixel775</th>\n",
              "      <th>pixel776</th>\n",
              "      <th>pixel777</th>\n",
              "      <th>pixel778</th>\n",
              "      <th>pixel779</th>\n",
              "      <th>pixel780</th>\n",
              "      <th>pixel781</th>\n",
              "      <th>pixel782</th>\n",
              "      <th>pixel783</th>\n",
              "    </tr>\n",
              "  </thead>\n",
              "  <tbody>\n",
              "    <tr>\n",
              "      <th>0</th>\n",
              "      <td>0</td>\n",
              "      <td>0</td>\n",
              "      <td>0</td>\n",
              "      <td>0</td>\n",
              "      <td>0</td>\n",
              "      <td>0</td>\n",
              "      <td>0</td>\n",
              "      <td>0</td>\n",
              "      <td>0</td>\n",
              "      <td>0</td>\n",
              "      <td>...</td>\n",
              "      <td>0</td>\n",
              "      <td>0</td>\n",
              "      <td>0</td>\n",
              "      <td>0</td>\n",
              "      <td>0</td>\n",
              "      <td>0</td>\n",
              "      <td>0</td>\n",
              "      <td>0</td>\n",
              "      <td>0</td>\n",
              "      <td>0</td>\n",
              "    </tr>\n",
              "    <tr>\n",
              "      <th>1</th>\n",
              "      <td>0</td>\n",
              "      <td>0</td>\n",
              "      <td>0</td>\n",
              "      <td>0</td>\n",
              "      <td>0</td>\n",
              "      <td>0</td>\n",
              "      <td>0</td>\n",
              "      <td>0</td>\n",
              "      <td>0</td>\n",
              "      <td>0</td>\n",
              "      <td>...</td>\n",
              "      <td>0</td>\n",
              "      <td>0</td>\n",
              "      <td>0</td>\n",
              "      <td>0</td>\n",
              "      <td>0</td>\n",
              "      <td>0</td>\n",
              "      <td>0</td>\n",
              "      <td>0</td>\n",
              "      <td>0</td>\n",
              "      <td>0</td>\n",
              "    </tr>\n",
              "    <tr>\n",
              "      <th>2</th>\n",
              "      <td>0</td>\n",
              "      <td>0</td>\n",
              "      <td>0</td>\n",
              "      <td>0</td>\n",
              "      <td>0</td>\n",
              "      <td>0</td>\n",
              "      <td>0</td>\n",
              "      <td>0</td>\n",
              "      <td>0</td>\n",
              "      <td>0</td>\n",
              "      <td>...</td>\n",
              "      <td>0</td>\n",
              "      <td>0</td>\n",
              "      <td>0</td>\n",
              "      <td>0</td>\n",
              "      <td>0</td>\n",
              "      <td>0</td>\n",
              "      <td>0</td>\n",
              "      <td>0</td>\n",
              "      <td>0</td>\n",
              "      <td>0</td>\n",
              "    </tr>\n",
              "    <tr>\n",
              "      <th>3</th>\n",
              "      <td>0</td>\n",
              "      <td>0</td>\n",
              "      <td>0</td>\n",
              "      <td>0</td>\n",
              "      <td>0</td>\n",
              "      <td>0</td>\n",
              "      <td>0</td>\n",
              "      <td>0</td>\n",
              "      <td>0</td>\n",
              "      <td>0</td>\n",
              "      <td>...</td>\n",
              "      <td>0</td>\n",
              "      <td>0</td>\n",
              "      <td>0</td>\n",
              "      <td>0</td>\n",
              "      <td>0</td>\n",
              "      <td>0</td>\n",
              "      <td>0</td>\n",
              "      <td>0</td>\n",
              "      <td>0</td>\n",
              "      <td>0</td>\n",
              "    </tr>\n",
              "    <tr>\n",
              "      <th>4</th>\n",
              "      <td>0</td>\n",
              "      <td>0</td>\n",
              "      <td>0</td>\n",
              "      <td>0</td>\n",
              "      <td>0</td>\n",
              "      <td>0</td>\n",
              "      <td>0</td>\n",
              "      <td>0</td>\n",
              "      <td>0</td>\n",
              "      <td>0</td>\n",
              "      <td>...</td>\n",
              "      <td>0</td>\n",
              "      <td>0</td>\n",
              "      <td>0</td>\n",
              "      <td>0</td>\n",
              "      <td>0</td>\n",
              "      <td>0</td>\n",
              "      <td>0</td>\n",
              "      <td>0</td>\n",
              "      <td>0</td>\n",
              "      <td>0</td>\n",
              "    </tr>\n",
              "  </tbody>\n",
              "</table>\n",
              "<p>5 rows × 784 columns</p>\n",
              "</div>\n",
              "      <button class=\"colab-df-convert\" onclick=\"convertToInteractive('df-277c1a73-09f1-4d68-b10b-d4b1dd8c69c4')\"\n",
              "              title=\"Convert this dataframe to an interactive table.\"\n",
              "              style=\"display:none;\">\n",
              "\n",
              "  <svg xmlns=\"http://www.w3.org/2000/svg\" height=\"24px\"viewBox=\"0 0 24 24\"\n",
              "       width=\"24px\">\n",
              "    <path d=\"M0 0h24v24H0V0z\" fill=\"none\"/>\n",
              "    <path d=\"M18.56 5.44l.94 2.06.94-2.06 2.06-.94-2.06-.94-.94-2.06-.94 2.06-2.06.94zm-11 1L8.5 8.5l.94-2.06 2.06-.94-2.06-.94L8.5 2.5l-.94 2.06-2.06.94zm10 10l.94 2.06.94-2.06 2.06-.94-2.06-.94-.94-2.06-.94 2.06-2.06.94z\"/><path d=\"M17.41 7.96l-1.37-1.37c-.4-.4-.92-.59-1.43-.59-.52 0-1.04.2-1.43.59L10.3 9.45l-7.72 7.72c-.78.78-.78 2.05 0 2.83L4 21.41c.39.39.9.59 1.41.59.51 0 1.02-.2 1.41-.59l7.78-7.78 2.81-2.81c.8-.78.8-2.07 0-2.86zM5.41 20L4 18.59l7.72-7.72 1.47 1.35L5.41 20z\"/>\n",
              "  </svg>\n",
              "      </button>\n",
              "\n",
              "\n",
              "\n",
              "    <div id=\"df-0b1ee453-0973-4a56-bf0f-4bc89c110a80\">\n",
              "      <button class=\"colab-df-quickchart\" onclick=\"quickchart('df-0b1ee453-0973-4a56-bf0f-4bc89c110a80')\"\n",
              "              title=\"Suggest charts.\"\n",
              "              style=\"display:none;\">\n",
              "\n",
              "<svg xmlns=\"http://www.w3.org/2000/svg\" height=\"24px\"viewBox=\"0 0 24 24\"\n",
              "     width=\"24px\">\n",
              "    <g>\n",
              "        <path d=\"M19 3H5c-1.1 0-2 .9-2 2v14c0 1.1.9 2 2 2h14c1.1 0 2-.9 2-2V5c0-1.1-.9-2-2-2zM9 17H7v-7h2v7zm4 0h-2V7h2v10zm4 0h-2v-4h2v4z\"/>\n",
              "    </g>\n",
              "</svg>\n",
              "      </button>\n",
              "    </div>\n",
              "\n",
              "<style>\n",
              "  .colab-df-quickchart {\n",
              "    background-color: #E8F0FE;\n",
              "    border: none;\n",
              "    border-radius: 50%;\n",
              "    cursor: pointer;\n",
              "    display: none;\n",
              "    fill: #1967D2;\n",
              "    height: 32px;\n",
              "    padding: 0 0 0 0;\n",
              "    width: 32px;\n",
              "  }\n",
              "\n",
              "  .colab-df-quickchart:hover {\n",
              "    background-color: #E2EBFA;\n",
              "    box-shadow: 0px 1px 2px rgba(60, 64, 67, 0.3), 0px 1px 3px 1px rgba(60, 64, 67, 0.15);\n",
              "    fill: #174EA6;\n",
              "  }\n",
              "\n",
              "  [theme=dark] .colab-df-quickchart {\n",
              "    background-color: #3B4455;\n",
              "    fill: #D2E3FC;\n",
              "  }\n",
              "\n",
              "  [theme=dark] .colab-df-quickchart:hover {\n",
              "    background-color: #434B5C;\n",
              "    box-shadow: 0px 1px 3px 1px rgba(0, 0, 0, 0.15);\n",
              "    filter: drop-shadow(0px 1px 2px rgba(0, 0, 0, 0.3));\n",
              "    fill: #FFFFFF;\n",
              "  }\n",
              "</style>\n",
              "\n",
              "    <script>\n",
              "      async function quickchart(key) {\n",
              "        const containerElement = document.querySelector('#' + key);\n",
              "        const charts = await google.colab.kernel.invokeFunction(\n",
              "            'suggestCharts', [key], {});\n",
              "      }\n",
              "    </script>\n",
              "\n",
              "      <script>\n",
              "\n",
              "function displayQuickchartButton(domScope) {\n",
              "  let quickchartButtonEl =\n",
              "    domScope.querySelector('#df-0b1ee453-0973-4a56-bf0f-4bc89c110a80 button.colab-df-quickchart');\n",
              "  quickchartButtonEl.style.display =\n",
              "    google.colab.kernel.accessAllowed ? 'block' : 'none';\n",
              "}\n",
              "\n",
              "        displayQuickchartButton(document);\n",
              "      </script>\n",
              "      <style>\n",
              "    .colab-df-container {\n",
              "      display:flex;\n",
              "      flex-wrap:wrap;\n",
              "      gap: 12px;\n",
              "    }\n",
              "\n",
              "    .colab-df-convert {\n",
              "      background-color: #E8F0FE;\n",
              "      border: none;\n",
              "      border-radius: 50%;\n",
              "      cursor: pointer;\n",
              "      display: none;\n",
              "      fill: #1967D2;\n",
              "      height: 32px;\n",
              "      padding: 0 0 0 0;\n",
              "      width: 32px;\n",
              "    }\n",
              "\n",
              "    .colab-df-convert:hover {\n",
              "      background-color: #E2EBFA;\n",
              "      box-shadow: 0px 1px 2px rgba(60, 64, 67, 0.3), 0px 1px 3px 1px rgba(60, 64, 67, 0.15);\n",
              "      fill: #174EA6;\n",
              "    }\n",
              "\n",
              "    [theme=dark] .colab-df-convert {\n",
              "      background-color: #3B4455;\n",
              "      fill: #D2E3FC;\n",
              "    }\n",
              "\n",
              "    [theme=dark] .colab-df-convert:hover {\n",
              "      background-color: #434B5C;\n",
              "      box-shadow: 0px 1px 3px 1px rgba(0, 0, 0, 0.15);\n",
              "      filter: drop-shadow(0px 1px 2px rgba(0, 0, 0, 0.3));\n",
              "      fill: #FFFFFF;\n",
              "    }\n",
              "  </style>\n",
              "\n",
              "      <script>\n",
              "        const buttonEl =\n",
              "          document.querySelector('#df-277c1a73-09f1-4d68-b10b-d4b1dd8c69c4 button.colab-df-convert');\n",
              "        buttonEl.style.display =\n",
              "          google.colab.kernel.accessAllowed ? 'block' : 'none';\n",
              "\n",
              "        async function convertToInteractive(key) {\n",
              "          const element = document.querySelector('#df-277c1a73-09f1-4d68-b10b-d4b1dd8c69c4');\n",
              "          const dataTable =\n",
              "            await google.colab.kernel.invokeFunction('convertToInteractive',\n",
              "                                                     [key], {});\n",
              "          if (!dataTable) return;\n",
              "\n",
              "          const docLinkHtml = 'Like what you see? Visit the ' +\n",
              "            '<a target=\"_blank\" href=https://colab.research.google.com/notebooks/data_table.ipynb>data table notebook</a>'\n",
              "            + ' to learn more about interactive tables.';\n",
              "          element.innerHTML = '';\n",
              "          dataTable['output_type'] = 'display_data';\n",
              "          await google.colab.output.renderOutput(dataTable, element);\n",
              "          const docLink = document.createElement('div');\n",
              "          docLink.innerHTML = docLinkHtml;\n",
              "          element.appendChild(docLink);\n",
              "        }\n",
              "      </script>\n",
              "    </div>\n",
              "  </div>\n"
            ],
            "text/plain": [
              "   pixel0  pixel1  pixel2  pixel3  pixel4  pixel5  pixel6  pixel7  pixel8  \\\n",
              "0       0       0       0       0       0       0       0       0       0   \n",
              "1       0       0       0       0       0       0       0       0       0   \n",
              "2       0       0       0       0       0       0       0       0       0   \n",
              "3       0       0       0       0       0       0       0       0       0   \n",
              "4       0       0       0       0       0       0       0       0       0   \n",
              "\n",
              "   pixel9  ...  pixel774  pixel775  pixel776  pixel777  pixel778  pixel779  \\\n",
              "0       0  ...         0         0         0         0         0         0   \n",
              "1       0  ...         0         0         0         0         0         0   \n",
              "2       0  ...         0         0         0         0         0         0   \n",
              "3       0  ...         0         0         0         0         0         0   \n",
              "4       0  ...         0         0         0         0         0         0   \n",
              "\n",
              "   pixel780  pixel781  pixel782  pixel783  \n",
              "0         0         0         0         0  \n",
              "1         0         0         0         0  \n",
              "2         0         0         0         0  \n",
              "3         0         0         0         0  \n",
              "4         0         0         0         0  \n",
              "\n",
              "[5 rows x 784 columns]"
            ]
          },
          "execution_count": 5,
          "metadata": {},
          "output_type": "execute_result"
        }
      ],
      "source": [
        "test.head()"
      ]
    },
    {
      "cell_type": "code",
      "execution_count": 48,
      "metadata": {
        "colab": {
          "base_uri": "https://localhost:8080/"
        },
        "id": "Vm89kDAVif5n",
        "outputId": "55776acc-89eb-45fb-ce02-f6a2fe67f32f"
      },
      "outputs": [
        {
          "output_type": "stream",
          "name": "stdout",
          "text": [
            "(42000, 785) (28000, 784)\n"
          ]
        }
      ],
      "source": [
        "print(train.shape,test.shape)"
      ]
    },
    {
      "cell_type": "code",
      "execution_count": 49,
      "metadata": {
        "id": "b9EvzCOEjFak"
      },
      "outputs": [],
      "source": [
        "Y_train = train[\"label\"]\n",
        "X_train = train.drop(labels = [\"label\"],axis = 1)\n",
        "\n",
        "# Given images are not already normalized (i.e. the pixel values are in the range [0,255]).\n",
        "# So normalize them by dividing by 255\n",
        "X_train = X_train / 255.0\n",
        "test = test / 255.0"
      ]
    },
    {
      "cell_type": "code",
      "execution_count": 50,
      "metadata": {
        "colab": {
          "base_uri": "https://localhost:8080/"
        },
        "id": "PHd4HeLvjTY6",
        "outputId": "9eb9d20e-17df-4039-d42e-e3b3eabd6ad9"
      },
      "outputs": [
        {
          "output_type": "execute_result",
          "data": {
            "text/plain": [
              "(42000, 784)"
            ]
          },
          "metadata": {},
          "execution_count": 50
        }
      ],
      "source": [
        "X_train.values.shape"
      ]
    },
    {
      "cell_type": "code",
      "execution_count": 51,
      "metadata": {
        "id": "M37KN8QMjWNd"
      },
      "outputs": [],
      "source": [
        "X_train = X_train.values.reshape(-1,28,28,1)\n",
        "X_test = test.values.reshape(-1,28,28,1)\n",
        "Y_train = to_categorical(Y_train, num_classes = 10)"
      ]
    },
    {
      "cell_type": "code",
      "execution_count": 52,
      "metadata": {
        "colab": {
          "base_uri": "https://localhost:8080/"
        },
        "id": "9HDljQlEjcMP",
        "outputId": "4f9d1108-317f-41fc-a733-bfa7ea7b26cf"
      },
      "outputs": [
        {
          "output_type": "execute_result",
          "data": {
            "text/plain": [
              "(42000, 28, 28, 1)"
            ]
          },
          "metadata": {},
          "execution_count": 52
        }
      ],
      "source": [
        "X_train.shape"
      ]
    },
    {
      "cell_type": "markdown",
      "metadata": {
        "id": "lzkTdiDbu933"
      },
      "source": [
        "Augmentation\n",
        "Following Augmentation have been applied on this set of 42,000 images training images.\n",
        "\n",
        "1. rotation_range:\n",
        "To randomly rotate images through any degree between 0 and 360 by providing an integer value in the rotation_range argument.\n",
        "2. zoom_range = 0.10,\n",
        "3. Random Shifts with width_shift_range and height_shift_range\n"
      ]
    },
    {
      "cell_type": "markdown",
      "metadata": {
        "id": "DmlmXxYEvgdQ"
      },
      "source": [
        "Image before augmentation"
      ]
    },
    {
      "cell_type": "code",
      "execution_count": 53,
      "metadata": {
        "colab": {
          "base_uri": "https://localhost:8080/",
          "height": 333
        },
        "id": "QFTJ_uIUjeiq",
        "outputId": "82129b7d-4ae3-4c3a-acec-b52b3e4e831d"
      },
      "outputs": [
        {
          "output_type": "display_data",
          "data": {
            "text/plain": [
              "<Figure size 1500x450 with 30 Axes>"
            ],
            "image/png": "[encoded data removed]"
          },
          "metadata": {}
        }
      ],
      "source": [
        "import matplotlib.pyplot as plt\n",
        "plt.figure(figsize=(15,4.5))\n",
        "for i in range(30):\n",
        "    plt.subplot(3, 10, i+1)\n",
        "    plt.imshow(X_train[i].reshape((28,28)),cmap=plt.cm.binary)\n",
        "    plt.axis('off')\n",
        "plt.subplots_adjust(wspace=-0.1, hspace=-0.1)\n",
        "plt.show()"
      ]
    },
    {
      "cell_type": "code",
      "execution_count": 54,
      "metadata": {
        "id": "Lv_LpZwdjg58"
      },
      "outputs": [],
      "source": [
        "datagen = ImageDataGenerator(\n",
        "        rotation_range=10,  # randomly rotate images through any degree between 0 and 360\n",
        "        zoom_range = 0.10,\n",
        "        width_shift_range=0.1, # a float number, that would indicate the percentage of width or height of the image to shift.\n",
        "        height_shift_range=0.1)"
      ]
    },
    {
      "cell_type": "code",
      "execution_count": 56,
      "metadata": {
        "colab": {
          "base_uri": "https://localhost:8080/"
        },
        "id": "vBdkipiyjoa4",
        "outputId": "286a43f9-9ea1-4f16-9172-40ff6d2eb38b"
      },
      "outputs": [
        {
          "output_type": "execute_result",
          "data": {
            "text/plain": [
              "(1, 28, 28, 1)"
            ]
          },
          "metadata": {},
          "execution_count": 56
        }
      ],
      "source": [
        "X_train.shape # (42000, 28, 28, 1)\n",
        "X_train[25,].shape # (28, 28, 1)\n",
        "X_train[25,].reshape((1,28,28,1)).shape # (1, 28, 28, 1)"
      ]
    },
    {
      "cell_type": "code",
      "execution_count": 57,
      "metadata": {
        "colab": {
          "base_uri": "https://localhost:8080/"
        },
        "id": "UQ_9bpPqj6p_",
        "outputId": "769a483b-b871-4d6b-b455-9bf489d5b572"
      },
      "outputs": [
        {
          "output_type": "execute_result",
          "data": {
            "text/plain": [
              "(28, 28, 1)"
            ]
          },
          "metadata": {},
          "execution_count": 57
        }
      ],
      "source": [
        "X_train[25,].shape"
      ]
    },
    {
      "cell_type": "code",
      "execution_count": 59,
      "metadata": {
        "colab": {
          "base_uri": "https://localhost:8080/"
        },
        "id": "olS-nIQ3kIrW",
        "outputId": "ad2309c6-3899-4a9f-896e-d83a96845a0f"
      },
      "outputs": [
        {
          "output_type": "execute_result",
          "data": {
            "text/plain": [
              "(28, 28, 1)"
            ]
          },
          "metadata": {},
          "execution_count": 59
        }
      ],
      "source": [
        "X_train[41999,].shape"
      ]
    },
    {
      "cell_type": "code",
      "execution_count": 60,
      "metadata": {
        "colab": {
          "base_uri": "https://localhost:8080/",
          "height": 448
        },
        "id": "hHfxPpXakKNK",
        "outputId": "c7c94097-a6ad-450d-de86-9f78759542d5"
      },
      "outputs": [
        {
          "output_type": "execute_result",
          "data": {
            "text/plain": [
              "<matplotlib.image.AxesImage at 0x7f4621c26680>"
            ]
          },
          "metadata": {},
          "execution_count": 60
        },
        {
          "output_type": "display_data",
          "data": {
            "text/plain": [
              "<Figure size 640x480 with 1 Axes>"
            ],
            "image/png": "[encoded data removed]"
          },
          "metadata": {}
        }
      ],
      "source": [
        "plt.imshow(X_train[18,].reshape((28,28)),cmap=plt.cm.binary)"
      ]
    },
    {
      "cell_type": "markdown",
      "metadata": {
        "id": "rd3IPGABvtFJ"
      },
      "source": [
        "Plotting augmented images by taking a single row of data"
      ]
    },
    {
      "cell_type": "code",
      "execution_count": 61,
      "metadata": {
        "colab": {
          "base_uri": "https://localhost:8080/",
          "height": 333
        },
        "id": "TEPHKkJxkUO_",
        "outputId": "faf16032-bb24-498f-e801-d510948b70fe"
      },
      "outputs": [
        {
          "output_type": "display_data",
          "data": {
            "text/plain": [
              "<Figure size 1500x450 with 30 Axes>"
            ],
            "image/png": "[encoded data removed]"
          },
          "metadata": {}
        }
      ],
      "source": [
        "\n",
        "X_train_random = X_train[25,].reshape((1,28,28,1))\n",
        "Y_train_random = Y_train[25,].reshape((1,10))\n",
        "\n",
        "plt.figure(figsize=(15,4.5))\n",
        "\n",
        "for i in range(30):\n",
        "    plt.subplot(3, 10, i+1)\n",
        "    X_train_augmented, Y_train_augmented = datagen.flow(X_train_random,Y_train_random).next()\n",
        "    plt.imshow(X_train_augmented[0].reshape((28,28)),cmap=plt.cm.binary)\n",
        "    plt.axis('off')\n",
        "    # Now for the second and third row take 2 different digit\n",
        "    # 9 and 7 respectively\n",
        "    # And because I am printing 9 columns for the same image, I have to\n",
        "    # advance the 'i' value by 10\n",
        "    if i==9:\n",
        "        X_train_random = X_train[11,].reshape((1,28,28,1))\n",
        "    if i==19:\n",
        "        X_train_random = X_train[18,].reshape((1,28,28,1))\n",
        "plt.subplots_adjust(wspace=-0.1, hspace=-0.1)\n",
        "plt.show()"
      ]
    },
    {
      "cell_type": "markdown",
      "metadata": {
        "id": "v4Hlx24Zv7a2"
      },
      "source": [
        "**LeNet5** Architecture\n",
        "\n",
        "![image.png](data:image/png;base64,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)"
      ]
    },
    {
      "cell_type": "code",
      "execution_count": 62,
      "metadata": {
        "id": "ZP-IveTZkYzE"
      },
      "outputs": [],
      "source": [
        "def build_model(num_cnn):\n",
        "    model = [0] *num_cnn\n",
        "    for j in range(num_cnn):\n",
        "        model[j] = Sequential()\n",
        "\n",
        "        model[j].add(Conv2D(32, kernel_size = 3, activation='relu', input_shape = (28, 28, 1))) # Two stacked 3x3 filters instead of single 5x5 filters.\n",
        "        model[j].add(BatchNormalization()) # Batch normalization is added\n",
        "        model[j].add(Conv2D(32, kernel_size = 3, activation='relu')) # and ReLU activation replaces sigmoid.\n",
        "        model[j].add(BatchNormalization())\n",
        "        model[j].add(Conv2D(32, kernel_size = 5, strides=2, padding='same', activation='relu')) # Stride 2 replaces pooling layers. These become learnable pooling layers.\n",
        "        model[j].add(BatchNormalization())\n",
        "        model[j].add(Dropout(0.4)) #  Dropout is added\n",
        "\n",
        "        model[j].add(Conv2D(64, kernel_size = 3, activation='relu'))\n",
        "        model[j].add(BatchNormalization())\n",
        "        model[j].add(Conv2D(64, kernel_size = 3, activation='relu'))\n",
        "        model[j].add(BatchNormalization())\n",
        "        model[j].add(Conv2D(64, kernel_size = 5, strides=2, padding='same', activation='relu'))\n",
        "        model[j].add(BatchNormalization())\n",
        "        model[j].add(Dropout(0.4))\n",
        "\n",
        "        model[j].add(Conv2D(128, kernel_size = 4, activation='relu'))\n",
        "        model[j].add(BatchNormalization())\n",
        "        model[j].add(Flatten())\n",
        "        model[j].add(Dropout(0.4))\n",
        "        model[j].add(Dense(10, activation='softmax'))\n",
        "\n",
        "        model[j].compile(optimizer=\"adam\", loss=\"categorical_crossentropy\", metrics=[\"accuracy\"])\n",
        "    return model\n"
      ]
    },
    {
      "cell_type": "code",
      "execution_count": null,
      "metadata": {
        "id": "BoIFMV9zkhkM"
      },
      "outputs": [],
      "source": [
        "num_cnn=10\n",
        "model = build_model(num_cnn)"
      ]
    },
    {
      "cell_type": "markdown",
      "metadata": {
        "id": "VD6gqDK9wSVY"
      },
      "source": [
        "Train 10 models"
      ]
    },
    {
      "cell_type": "code",
      "execution_count": 63,
      "metadata": {
        "id": "FS8oryc6kkjH"
      },
      "outputs": [],
      "source": [
        "def train(num_epochs):\n",
        "    # Keep reducing the Learning Rate\n",
        "    lr_scheduler = LearningRateScheduler(lambda x: 1e-3 * 0.95 ** x)\n",
        "    # Training starts\n",
        "    history = [0] * num_cnn\n",
        "    for cnn in range(num_cnn):\n",
        "        X_train_split, X_val_split, Y_train_split, Y_val_split = train_test_split(\n",
        "            X_train, Y_train, test_size=0.1\n",
        "        )\n",
        "        history[cnn] = model[cnn].fit(\n",
        "            datagen.flow(X_train_split, Y_train_split, batch_size=64),\n",
        "            epochs=num_epochs,\n",
        "            steps_per_epoch=X_train_split.shape[0] // 64,\n",
        "            validation_data=(X_val_split, Y_val_split),\n",
        "            callbacks=[lr_scheduler],\n",
        "            verbose=0,\n",
        "        )\n",
        "        print(\n",
        "            \"CNN {0:d}: Epochs={1:d}, Train accuracy={2:.5f}, Validation accuracy={3:.5f}\".format(\n",
        "                cnn + 1,\n",
        "                num_epochs,\n",
        "                max(history[cnn].history[\"accuracy\"]),\n",
        "                max(history[cnn].history[\"val_accuracy\"]),\n",
        "            )\n",
        "        )"
      ]
    },
    {
      "cell_type": "markdown",
      "metadata": {
        "id": "b3By8rOew0jo"
      },
      "source": [
        "LearningRateScheduler\n",
        "\n",
        "At the beginning of every epoch, this callback gets the updated learning rate value from schedule function provided at __init__, with the current epoch and current learning rate, and applies the updated learning rate on the optimizer."
      ]
    },
    {
      "cell_type": "code",
      "execution_count": 64,
      "metadata": {
        "colab": {
          "base_uri": "https://localhost:8080/"
        },
        "id": "Rl9GKXvMknda",
        "outputId": "f8b8faf2-b9b2-4166-e300-e828546d7108"
      },
      "outputs": [
        {
          "output_type": "stream",
          "name": "stdout",
          "text": [
            "CNN 1: Epochs=1, Train accuracy=0.98158, Validation accuracy=0.99333\n",
            "CNN 2: Epochs=1, Train accuracy=0.98015, Validation accuracy=0.98524\n",
            "CNN 3: Epochs=1, Train accuracy=0.97843, Validation accuracy=0.98929\n",
            "CNN 4: Epochs=1, Train accuracy=0.97970, Validation accuracy=0.99119\n",
            "CNN 5: Epochs=1, Train accuracy=0.98076, Validation accuracy=0.99286\n",
            "CNN 6: Epochs=1, Train accuracy=0.97986, Validation accuracy=0.99262\n",
            "CNN 7: Epochs=1, Train accuracy=0.98081, Validation accuracy=0.98786\n",
            "CNN 8: Epochs=1, Train accuracy=0.98007, Validation accuracy=0.98905\n",
            "CNN 9: Epochs=1, Train accuracy=0.95561, Validation accuracy=0.98833\n",
            "CNN 10: Epochs=1, Train accuracy=0.85404, Validation accuracy=0.94071\n"
          ]
        }
      ],
      "source": [
        "# num_epochs = 1  # First running for 1 epoch only to check all is working fine\n",
        "num_epochs = 1\n",
        "train(num_epochs)"
      ]
    },
    {
      "cell_type": "code",
      "execution_count": 65,
      "metadata": {
        "id": "D-15NDREkp3R",
        "colab": {
          "base_uri": "https://localhost:8080/"
        },
        "outputId": "5ad392da-618d-48f6-d555-ba20ac2c1686"
      },
      "outputs": [
        {
          "output_type": "execute_result",
          "data": {
            "text/plain": [
              "(28000, 28, 28, 1)"
            ]
          },
          "metadata": {},
          "execution_count": 65
        }
      ],
      "source": [
        "X_test.shape"
      ]
    },
    {
      "cell_type": "code",
      "execution_count": 66,
      "metadata": {
        "id": "v1CK1hl7kvc_",
        "colab": {
          "base_uri": "https://localhost:8080/"
        },
        "outputId": "b0f28528-44cf-4fdb-bd2f-61043eea8e3c"
      },
      "outputs": [
        {
          "output_type": "execute_result",
          "data": {
            "text/plain": [
              "(28000, 10)"
            ]
          },
          "metadata": {},
          "execution_count": 66
        }
      ],
      "source": [
        "final_ensemble_prediction = np.zeros( (X_test.shape[0],10) )\n",
        "\n",
        "final_ensemble_prediction.shape"
      ]
    },
    {
      "cell_type": "code",
      "execution_count": 67,
      "metadata": {
        "id": "YFW_iLELkvyO",
        "colab": {
          "base_uri": "https://localhost:8080/"
        },
        "outputId": "e1f41816-d24e-4714-84ae-e5c1ac34a9ec"
      },
      "outputs": [
        {
          "output_type": "stream",
          "name": "stdout",
          "text": [
            "875/875 [==============================] - 17s 20ms/step\n",
            "875/875 [==============================] - 17s 20ms/step\n",
            "875/875 [==============================] - 17s 20ms/step\n",
            "875/875 [==============================] - 17s 20ms/step\n",
            "875/875 [==============================] - 18s 20ms/step\n",
            "875/875 [==============================] - 18s 21ms/step\n",
            "875/875 [==============================] - 17s 20ms/step\n",
            "875/875 [==============================] - 18s 20ms/step\n",
            "875/875 [==============================] - 17s 20ms/step\n",
            "875/875 [==============================] - 18s 21ms/step\n"
          ]
        }
      ],
      "source": [
        "for j in range(num_cnn):\n",
        "    final_ensemble_prediction = np.zeros( (X_test.shape[0],10) )\n",
        "    final_ensemble_prediction = final_ensemble_prediction + model[j].predict(X_test)\n",
        "\n",
        "    final_ensemble_prediction = np.argmax(final_ensemble_prediction,axis = 1)\n",
        "\n",
        "#     print(\"final_ensemble_prediction.shape \", final_ensemble_prediction.shape)\n",
        "\n",
        "    final_ensemble_prediction = pd.Series(final_ensemble_prediction,name=\"Label\")\n",
        "\n",
        "    final_ensemble_prediction\n"
      ]
    },
    {
      "cell_type": "code",
      "source": [
        "final_ensemble_prediction.to_numpy()\n"
      ],
      "metadata": {
        "colab": {
          "base_uri": "https://localhost:8080/"
        },
        "id": "k-z9PftAQdN9",
        "outputId": "f270b604-c5bd-4818-e574-96595b1fe117"
      },
      "execution_count": 116,
      "outputs": [
        {
          "output_type": "execute_result",
          "data": {
            "text/plain": [
              "array([2, 0, 8, ..., 3, 4, 2])"
            ]
          },
          "metadata": {},
          "execution_count": 116
        }
      ]
    },
    {
      "cell_type": "markdown",
      "source": [
        "Taking a random sample and showing classification report"
      ],
      "metadata": {
        "id": "FYUe3pwkRToc"
      }
    },
    {
      "cell_type": "code",
      "source": [
        "train = pd.read_csv(\"train 2.csv\")\n",
        "test = pd.read_csv(\"test.csv\")"
      ],
      "metadata": {
        "id": "ZYEiCbq_OM6w"
      },
      "execution_count": 87,
      "outputs": []
    },
    {
      "cell_type": "code",
      "source": [
        "Y_train = train[\"label\"]\n",
        "X_train = train.drop(labels = [\"label\"],axis = 1)\n",
        "\n",
        "# Given images are not already normalized (i.e. the pixel values are in the range [0,255]).\n",
        "# So normalize them by dividing by 255\n",
        "X_train = X_train / 255.0\n",
        "test = test / 255.0"
      ],
      "metadata": {
        "id": "8i0Q0_IhOjKE"
      },
      "execution_count": 88,
      "outputs": []
    },
    {
      "cell_type": "code",
      "source": [
        "X_train, X_test, Y_train, Y_test = train_test_split(X_train, Y_train, test_size=0.2)"
      ],
      "metadata": {
        "id": "iq2HiGVVOq2J"
      },
      "execution_count": 100,
      "outputs": []
    },
    {
      "cell_type": "code",
      "source": [
        "y_pred=0\n",
        "for i in range(10):\n",
        "  y_pred=y_pred+model[i].predict(X_test.values.reshape(-1,28,28,1))"
      ],
      "metadata": {
        "colab": {
          "base_uri": "https://localhost:8080/"
        },
        "id": "WCY8PGPdO4y4",
        "outputId": "e17d753a-1026-4468-ebcf-0b1f7f82e40b"
      },
      "execution_count": 108,
      "outputs": [
        {
          "output_type": "stream",
          "name": "stdout",
          "text": [
            "189/189 [==============================] - 4s 19ms/step\n",
            "189/189 [==============================] - 4s 22ms/step\n",
            "189/189 [==============================] - 4s 19ms/step\n",
            "189/189 [==============================] - 4s 21ms/step\n",
            "189/189 [==============================] - 4s 20ms/step\n",
            "189/189 [==============================] - 4s 19ms/step\n",
            "189/189 [==============================] - 4s 22ms/step\n",
            "189/189 [==============================] - 4s 19ms/step\n",
            "189/189 [==============================] - 4s 19ms/step\n",
            "189/189 [==============================] - 4s 22ms/step\n"
          ]
        }
      ]
    },
    {
      "cell_type": "code",
      "source": [
        "y_pred=np.argmax(y_pred,axis=1)"
      ],
      "metadata": {
        "id": "tBIeYnDQO_pa"
      },
      "execution_count": 109,
      "outputs": []
    },
    {
      "cell_type": "code",
      "source": [
        "y_pred"
      ],
      "metadata": {
        "colab": {
          "base_uri": "https://localhost:8080/"
        },
        "id": "bW65kTSaPJXk",
        "outputId": "cf1719c3-e2b7-4d9d-b465-a89b08f25974"
      },
      "execution_count": 110,
      "outputs": [
        {
          "output_type": "execute_result",
          "data": {
            "text/plain": [
              "array([7, 2, 2, ..., 7, 7, 1])"
            ]
          },
          "metadata": {},
          "execution_count": 110
        }
      ]
    },
    {
      "cell_type": "code",
      "source": [
        "from sklearn.metrics import classification_report, confusion_matrix\n",
        "print(classification_report(Y_test, y_pred))"
      ],
      "metadata": {
        "colab": {
          "base_uri": "https://localhost:8080/"
        },
        "id": "eJrRp4L-PUL7",
        "outputId": "5fd6fc4b-d529-43be-f200-d7f60c4afac7"
      },
      "execution_count": 111,
      "outputs": [
        {
          "output_type": "stream",
          "name": "stdout",
          "text": [
            "              precision    recall  f1-score   support\n",
            "\n",
            "           0       1.00      1.00      1.00       584\n",
            "           1       1.00      1.00      1.00       673\n",
            "           2       1.00      1.00      1.00       592\n",
            "           3       1.00      1.00      1.00       596\n",
            "           4       0.99      0.99      0.99       594\n",
            "           5       1.00      0.99      0.99       535\n",
            "           6       0.99      1.00      0.99       608\n",
            "           7       0.99      1.00      1.00       651\n",
            "           8       1.00      1.00      1.00       587\n",
            "           9       0.99      0.99      0.99       628\n",
            "\n",
            "    accuracy                           1.00      6048\n",
            "   macro avg       1.00      1.00      1.00      6048\n",
            "weighted avg       1.00      1.00      1.00      6048\n",
            "\n"
          ]
        }
      ]
    },
    {
      "cell_type": "code",
      "source": [],
      "metadata": {
        "id": "_E4rSnCkPuGX"
      },
      "execution_count": null,
      "outputs": []
    }
  ],
  "metadata": {
    "colab": {
      "provenance": []
    },
    "kernelspec": {
      "display_name": "Python 3",
      "name": "python3"
    },
    "language_info": {
      "name": "python"
    }
  },
  "nbformat": 4,
  "nbformat_minor": 0
}